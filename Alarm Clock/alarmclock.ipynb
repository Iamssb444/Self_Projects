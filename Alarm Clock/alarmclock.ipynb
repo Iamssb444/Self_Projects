{
 "cells": [
  {
   "cell_type": "code",
   "execution_count": null,
   "id": "25f6dd06",
   "metadata": {
    "scrolled": true
   },
   "outputs": [],
   "source": [
    "import os\n",
    "import datetime\n",
    "import time\n",
    "\n",
    "year, month, day = input(\"Enter the date = \").split(\"/\")    #splitting input values by'/'\n",
    "\n",
    "hour, minutes, second = input(\"Enter the Time = \").split(\":\")    #splitting input values by':'\n",
    "\n",
    "shedule_date = datetime.date(int(day), int(month), int(year))    #converting input values into interger\n",
    "\n",
    "n = 1\n",
    "\n",
    "while n > 0:\n",
    "    \n",
    "    if time.localtime().tm_hour == int(hour) and time.localtime().tm_min == int(minutes) and time.localtime().tm_sec == int(second) and datetime.date.today() == shedule_date:\n",
    "        \n",
    "        os.startfile(\"C:\\\\Users\\\\Sagar\\\\Music\\\\Chogada.mp3\")    #Enter the path of a song or ringtone where it is placed in your system\n",
    "        \n",
    "        break\n",
    "    \n",
    "    else:\n",
    "        \n",
    "        n +=1"
   ]
  },
  {
   "cell_type": "code",
   "execution_count": null,
   "id": "f40687e1",
   "metadata": {},
   "outputs": [],
   "source": []
  }
 ],
 "metadata": {
  "kernelspec": {
   "display_name": "Python 3",
   "language": "python",
   "name": "python3"
  },
  "language_info": {
   "codemirror_mode": {
    "name": "ipython",
    "version": 3
   },
   "file_extension": ".py",
   "mimetype": "text/x-python",
   "name": "python",
   "nbconvert_exporter": "python",
   "pygments_lexer": "ipython3",
   "version": "3.8.8"
  }
 },
 "nbformat": 4,
 "nbformat_minor": 5
}
